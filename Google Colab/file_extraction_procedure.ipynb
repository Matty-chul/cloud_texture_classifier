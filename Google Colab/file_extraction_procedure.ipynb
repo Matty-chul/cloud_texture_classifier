{
  "nbformat": 4,
  "nbformat_minor": 0,
  "metadata": {
    "colab": {
      "provenance": []
    },
    "kernelspec": {
      "name": "python3",
      "display_name": "Python 3"
    },
    "language_info": {
      "name": "python"
    }
  },
  "cells": [
    {
      "cell_type": "code",
      "execution_count": null,
      "metadata": {
        "id": "B0EewibK00e6"
      },
      "outputs": [],
      "source": [
        "import numpy as np\n",
        "import sys\n",
        "import os\n",
        "import time\n",
        "import cv2\n",
        "from google.colab import drive"
      ]
    },
    {
      "cell_type": "markdown",
      "source": [
        "# Mounting drive for extracting the files"
      ],
      "metadata": {
        "id": "clIp9ZGe1FD9"
      }
    },
    {
      "cell_type": "code",
      "source": [
        "# Requires authentication on personal drive\n",
        "\n",
        "drive.mount('/content/drive')\n",
        "dbpath = '/content/drive/My Drive/CCSN'"
      ],
      "metadata": {
        "id": "Diyr_Bpr1ESg"
      },
      "execution_count": null,
      "outputs": []
    },
    {
      "cell_type": "markdown",
      "source": [
        "# Defining relevant functions"
      ],
      "metadata": {
        "id": "Exx2T1LS1M3Z"
      }
    },
    {
      "cell_type": "code",
      "source": [
        "def Descriptori_LBP_RGB(matrix,t):\n",
        "    # PURPOSE: computes the base LTP texture descriptor of a given image\n",
        "    #\n",
        "    # PARAMETERS: matrix: image to be extracted\n",
        "    #            t: the selected noise threshold\n",
        "    #\n",
        "    # RETURNS: histcorob: the base LTP texture descriptor of the given image\n",
        "\n",
        "    histcorob=np.zeros(1536,dtype=np.float64)\n",
        "    t=np.float64(t)\n",
        "    h,w = matrix[:,:,0].shape\n",
        "    for plan_culoare in range(3):\n",
        "      for i in range (1,h-1):\n",
        "          for j in range(1,w-1):\n",
        "              CODE_POZ=0\n",
        "              CODE_NEG=0\n",
        "              c=np.float64(matrix[i][j][plan_culoare])\n",
        "      # \"diffs\" stores all the substractions made between the reference pixel and its \"neighbours\"\n",
        "              diffs=np.float64([matrix[i][j-1][plan_culoare],\n",
        "                                matrix[i+1][j-1][plan_culoare],\n",
        "                                matrix[i+1][j][plan_culoare],\n",
        "                                matrix[i+1][j+1][plan_culoare],\n",
        "                                matrix[i][j+1][plan_culoare],\n",
        "                                matrix[i-1][j+1][plan_culoare],\n",
        "                                matrix[i-1][j][plan_culoare],\n",
        "                                matrix[i-1][j-1][plan_culoare]])-np.float64(c)\n",
        "\n",
        "              CODE_POZ+= 1<<7 if diffs[0]>=t else 0   #MSB\n",
        "              CODE_NEG+= 1<<7 if diffs[0]<=-t else 0\n",
        "\n",
        "              CODE_POZ+= 1<<6 if diffs[1]>=t else 0\n",
        "              CODE_NEG+= 1<<6 if diffs[1]<=-t else 0\n",
        "\n",
        "              CODE_POZ+= 1<<5 if diffs[2]>=t else 0\n",
        "              CODE_NEG+= 1<<5 if diffs[2]<=-t else 0\n",
        "\n",
        "              CODE_POZ+= 1<<4 if diffs[3]>=t else 0\n",
        "              CODE_NEG+= 1<<4 if diffs[3]<=-t else 0\n",
        "\n",
        "              CODE_POZ+= 1<<3 if diffs[4]>=t else 0\n",
        "              CODE_NEG+= 1<<3 if diffs[4]<=-t else 0\n",
        "\n",
        "              CODE_POZ+= 1<<2 if diffs[5]>=t else 0\n",
        "              CODE_NEG+= 1<<2 if diffs[5]<=-t else 0\n",
        "\n",
        "              CODE_POZ+= 1<<1 if diffs[6]>=t else 0\n",
        "              CODE_NEG+= 1<<1 if diffs[6]<=-t else 0\n",
        "\n",
        "              CODE_POZ+= 1 if diffs[7]>=t else 0\n",
        "              CODE_NEG+= 1 if diffs[7]<=-t else 0     #LSB\n",
        "\n",
        "              histcorob[CODE_POZ + 256 * (plan_culoare * 2) ]+=1\n",
        "              histcorob[CODE_NEG + 256 * (plan_culoare * 2 + 1) ]+=1\n",
        "\n",
        "    return histcorob"
      ],
      "metadata": {
        "id": "k57b1dsF1RMf"
      },
      "execution_count": null,
      "outputs": []
    },
    {
      "cell_type": "markdown",
      "source": [
        "# The File Extraction Procedure"
      ],
      "metadata": {
        "id": "FZJriqId13G0"
      }
    },
    {
      "cell_type": "code",
      "source": [
        "# variable keeping track of extracted files in one session (useful in case of a keyboard interrupt)\n",
        "# if session times out and variable workspace is cleared, file extraction progression needs to be checked\n",
        "# manually in the mounted drive in order to resume proper extraction\n",
        "\n",
        "IS_EXTRACTED = {'Ac':False,'As':False,'Cb':False,'Cc':False,'Ci':False,'Cs':False,'Ct':False,'Cu':False,'Ns':False,'Sc':False,'St':False}"
      ],
      "metadata": {
        "id": "5scjJhlr16Z1"
      },
      "execution_count": null,
      "outputs": []
    },
    {
      "cell_type": "code",
      "source": [
        "# If you want to test this file extraction procedure for yourself,\n",
        "# set up a dummy folder with the name 'CCSN' with a few mock images\n",
        "# for extraction in the 'My Drive' folder.\n",
        "#\n",
        "# Images are extracted in .binary and stored in format np.float64\n",
        "\n",
        "ZGOMOT = 2                                       # noise threshold (NEEDS TO BE SET MANUALLY)\n",
        "DBPATH = '/content/drive/My Drive/CCSN'          # image database source\n",
        "BACKPATH = '/content/drive/My Drive/backups'     # extracted file destination\n",
        "BACKFOLDER = 'ZGOMOT_' + str(ZGOMOT)\n",
        "\n",
        "\n",
        "contor = 0\n",
        "print (f'EXTRACTING TEXTURE DESCRIPTORS FOR NOISE THRESHOLD {ZGOMOT} ')\n",
        "for classdirectory in os.listdir(DBPATH):\n",
        "    print(f'EXTRACTING CLASS {classdirectory}...')\n",
        "    BACKFILE =  'LTP_' + str(ZGOMOT) + '_' + classdirectory + '.bin'\n",
        "    if IS_EXTRACTED[classdirectory]:\n",
        "      print(f'Class {classdirectory} has already been extracted. Continuing...\\n')\n",
        "      continue\n",
        "    else:\n",
        "      with open (os.path.join(BACKPATH,BACKFOLDER,BACKFILE),'a') as file:\n",
        "        contor = 0\n",
        "        for image in os.listdir(os.path.join(DBPATH,classdirectory)):\n",
        "          contor+=1\n",
        "\n",
        "          imagine_extrasa = cv2.cvtColor(cv2.imread(os.path.join(DBPATH,classdirectory,image)),cv2.COLOR_BGR2RGB)\n",
        "          Descriptori_LBP_RGB (imagine_extrasa , ZGOMOT).tofile(file) #histograma extrasa scrisa in fisier\n",
        "\n",
        "          if contor%10 == 0 : print(f'{contor} {classdirectory} extracted images...')\n",
        "\n",
        "      print(f'Class {classdirectory} has been extracted!\\n')\n",
        "      IS_EXTRACTED[classdirectory] = True\n",
        "print('END OF EXTRACTION')\n",
        "\n"
      ],
      "metadata": {
        "id": "gXRA5Xdk2-03"
      },
      "execution_count": null,
      "outputs": []
    }
  ]
}